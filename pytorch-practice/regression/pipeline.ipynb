{
 "cells": [
  {
   "cell_type": "code",
   "execution_count": 1,
   "id": "5e375990",
   "metadata": {},
   "outputs": [
    {
     "name": "stdout",
     "output_type": "stream",
     "text": [
      "<bound method NDFrame.head of        MedInc  HouseAge  AveRooms  AveBedrms  Population  AveOccup  Latitude  \\\n",
      "0      8.3252      41.0  6.984127   1.023810       322.0  2.555556     37.88   \n",
      "1      8.3014      21.0  6.238137   0.971880      2401.0  2.109842     37.86   \n",
      "2      7.2574      52.0  8.288136   1.073446       496.0  2.802260     37.85   \n",
      "3      5.6431      52.0  5.817352   1.073059       558.0  2.547945     37.85   \n",
      "4      3.8462      52.0  6.281853   1.081081       565.0  2.181467     37.85   \n",
      "...       ...       ...       ...        ...         ...       ...       ...   \n",
      "20635  1.5603      25.0  5.045455   1.133333       845.0  2.560606     39.48   \n",
      "20636  2.5568      18.0  6.114035   1.315789       356.0  3.122807     39.49   \n",
      "20637  1.7000      17.0  5.205543   1.120092      1007.0  2.325635     39.43   \n",
      "20638  1.8672      18.0  5.329513   1.171920       741.0  2.123209     39.43   \n",
      "20639  2.3886      16.0  5.254717   1.162264      1387.0  2.616981     39.37   \n",
      "\n",
      "       Longitude  MedHouseVal  \n",
      "0        -122.23        4.526  \n",
      "1        -122.22        3.585  \n",
      "2        -122.24        3.521  \n",
      "3        -122.25        3.413  \n",
      "4        -122.25        3.422  \n",
      "...          ...          ...  \n",
      "20635    -121.09        0.781  \n",
      "20636    -121.21        0.771  \n",
      "20637    -121.22        0.923  \n",
      "20638    -121.32        0.847  \n",
      "20639    -121.24        0.894  \n",
      "\n",
      "[20640 rows x 9 columns]>\n"
     ]
    }
   ],
   "source": [
    "from sklearn.datasets import fetch_california_housing\n",
    "\n",
    "import pandas as pd\n",
    "\n",
    "california = fetch_california_housing(as_frame=True)\n",
    "\n",
    "df = california.frame\n",
    "print(df.head)"
   ]
  },
  {
   "cell_type": "code",
   "execution_count": 6,
   "id": "0d5212ad",
   "metadata": {},
   "outputs": [
    {
     "name": "stdout",
     "output_type": "stream",
     "text": [
      "(16512, 8)\n"
     ]
    }
   ],
   "source": [
    "from sklearn.model_selection import train_test_split\n",
    "\n",
    "X = df.drop(\"MedHouseVal\", axis= 1).values\n",
    "y = df[\"MedHouseVal\"].values\n",
    "\n",
    "X_train, X_test, y_train, y_test = train_test_split(X, y, test_size=0.2, train_size=0.8, shuffle=True)\n",
    "print(X_train.shape)\n"
   ]
  },
  {
   "cell_type": "code",
   "execution_count": null,
   "id": "a5a1e1b0",
   "metadata": {},
   "outputs": [],
   "source": [
    "import torch\n",
    "from torch.utils.data import Dataset, DataLoader\n",
    "\n",
    "class CaliforniaHousingDataset(Dataset):\n",
    "    def __init__(self, X, y):\n",
    "        super().__init__()\n",
    "        self.X = torch.tensor(X, dtype=torch.float32)\n",
    "        self.y = torch.tensor(y, dtype=torch.float32)\n",
    "    \n",
    "    def __len__(self):\n",
    "        return len(self.X)\n",
    "    \n",
    "    def __getitem__(self, index):\n",
    "        return self.X[index], self.y[index]\n",
    "    \n",
    "train_dataset = CaliforniaHousingDataset(X_train, y_train)\n",
    "test_dataset = CaliforniaHousingDataset(X_test, y_test)"
   ]
  },
  {
   "cell_type": "code",
   "execution_count": 24,
   "id": "024b9823",
   "metadata": {},
   "outputs": [],
   "source": [
    "import torch.nn as nn\n",
    "from torch.utils.data import DataLoader\n",
    "\n",
    "train_dataloader = DataLoader(train_dataset, batch_size=32, shuffle=True)\n",
    "test_dataloader = DataLoader(test_dataset, batch_size=32)\n",
    "\n",
    "class RegressionModel(nn.Module):\n",
    "    def __init__(self, in_features):\n",
    "        super().__init__()\n",
    "        self.model = nn.Sequential(\n",
    "            nn.Linear(in_features, 64),\n",
    "            nn.ReLU(),\n",
    "            nn.Linear(64, 128),\n",
    "            nn.ReLU(),\n",
    "            nn.Linear(128,1)\n",
    "        )\n",
    "\n",
    "    def forward(self, X):\n",
    "        return self.model(X)"
   ]
  },
  {
   "cell_type": "code",
   "execution_count": 27,
   "id": "416c04bf",
   "metadata": {},
   "outputs": [
    {
     "name": "stdout",
     "output_type": "stream",
     "text": [
      "Epoch 0: 30.269360798158388\n",
      "Epoch 1: 1.8248338556104853\n",
      "Epoch 2: 3.8187041990747748\n",
      "Epoch 3: 3.913353984323583\n",
      "Epoch 4: 6.313650853874147\n",
      "Epoch 5: 1.9551215682380882\n",
      "Epoch 6: 4.669329085437826\n",
      "Epoch 7: 9.45811692677265\n",
      "Epoch 8: 1.4239951932961628\n",
      "Epoch 9: 1.475822536982307\n",
      "Epoch 10: 1.4392679448044576\n",
      "Epoch 11: 2.1586488626262015\n",
      "Epoch 12: 1.441072925694229\n",
      "Epoch 13: 1.5848905117821324\n",
      "Epoch 14: 1.63350149763878\n",
      "Epoch 15: 1.8285119366045146\n",
      "Epoch 16: 1.5332544641208279\n",
      "Epoch 17: 1.5047625075708064\n",
      "Epoch 18: 1.7112119576727698\n",
      "Epoch 19: 1.3761542140282401\n",
      "Epoch 20: 1.4144404233657113\n",
      "Epoch 21: 1.3806727147379587\n",
      "Epoch 22: 1.3835528023367705\n",
      "Epoch 23: 1.3637934654026993\n",
      "Epoch 24: 1.3478941475005113\n",
      "Epoch 25: 1.3732606661181117\n",
      "Epoch 26: 1.3507160679545513\n",
      "Epoch 27: 1.3600786840037782\n",
      "Epoch 28: 1.3491557801878729\n",
      "Epoch 29: 1.3567999839320664\n",
      "Epoch 30: 1.342363494542218\n",
      "Epoch 31: 1.3395521832528965\n",
      "Epoch 32: 1.3424408196132311\n",
      "Epoch 33: 1.3501202994307806\n",
      "Epoch 34: 1.352609814599503\n",
      "Epoch 35: 1.3374722887032715\n",
      "Epoch 36: 1.3440081603074259\n",
      "Epoch 37: 1.3445375218640927\n",
      "Epoch 38: 1.3457340220379275\n",
      "Epoch 39: 1.3397604878558669\n",
      "Epoch 40: 1.3409037512055664\n",
      "Epoch 41: 1.338731657511504\n",
      "Epoch 42: 1.3382028151852217\n",
      "Epoch 43: 1.3375493982272555\n",
      "Epoch 44: 1.3424308110577192\n",
      "Epoch 45: 1.340670569518278\n",
      "Epoch 46: 1.3390049218207367\n",
      "Epoch 47: 1.3396213319181471\n",
      "Epoch 48: 1.3404025093529575\n",
      "Epoch 49: 1.3385246940707975\n"
     ]
    }
   ],
   "source": [
    "\n",
    "in_features = len(train_dataset.X[0])\n",
    "model = RegressionModel(in_features)\n",
    "device = torch.device(\"cuda\" if torch.cuda.is_available() else \"cpu\")\n",
    "\n",
    "model.to(device)\n",
    "loss_fn = nn.MSELoss()\n",
    "optim = torch.optim.Adam(model.parameters(), lr=0.001)\n",
    "\n",
    "\n",
    "model.train()\n",
    "def train(dataloader, model, loss_fn, optim):\n",
    "    expected_loss = 0\n",
    "    num_batches = len(dataloader)\n",
    "    for (X,y) in (dataloader):\n",
    "        X, y = X.to(device), y.to(device)\n",
    "\n",
    "        optim.zero_grad()\n",
    "\n",
    "        y_hat = model(X)\n",
    "        loss = loss_fn(y_hat, y)\n",
    "\n",
    "        loss.backward()\n",
    "        optim.step()\n",
    "    \n",
    "        expected_loss += loss.item()        \n",
    "\n",
    "    return expected_loss / num_batches\n",
    "\n",
    "for epoch in range(50):\n",
    "    avg_loss = train(dataloader=train_dataloader, model=model, loss_fn=loss_fn, optim=optim)\n",
    "    print(f\"Epoch {epoch}: {avg_loss}\")\n",
    "        "
   ]
  },
  {
   "cell_type": "code",
   "execution_count": 28,
   "id": "f27c7162",
   "metadata": {},
   "outputs": [
    {
     "name": "stdout",
     "output_type": "stream",
     "text": [
      "Test MAE: 0.9053 1.3160\n",
      "tensor(0.4460) tensor(5.0000) tensor(2.0148)\n"
     ]
    }
   ],
   "source": [
    "model.eval()\n",
    "\n",
    "total_mae = 0\n",
    "total_loss = 0\n",
    "total_samples = 0\n",
    "for X, y in test_dataloader:\n",
    "    with torch.no_grad():\n",
    "        X, y = X.to(device), y.to(device)\n",
    "        y_hat = model(X)\n",
    "        loss = loss_fn(y_hat.squeeze(-1), y)\n",
    "\n",
    "        total_loss += loss.item() * X.size(0)\n",
    "        total_samples += X.size(0)\n",
    "\n",
    "        mae = torch.abs(y_hat.squeeze()-y).sum()\n",
    "        total_mae += mae.item()\n",
    "\n",
    "avg_mae = total_mae / total_samples\n",
    "avg_loss = total_loss / total_samples\n",
    "print(f\"Test MAE: {avg_mae:.4f} {avg_loss:.4f}\")\n",
    "\n",
    "print(torch.min(y), torch.max(y), torch.mean(y))\n",
    "\n",
    "    \n",
    "\n",
    "\n",
    "\n"
   ]
  }
 ],
 "metadata": {
  "kernelspec": {
   "display_name": "ml",
   "language": "python",
   "name": "python3"
  },
  "language_info": {
   "codemirror_mode": {
    "name": "ipython",
    "version": 3
   },
   "file_extension": ".py",
   "mimetype": "text/x-python",
   "name": "python",
   "nbconvert_exporter": "python",
   "pygments_lexer": "ipython3",
   "version": "3.11.12"
  }
 },
 "nbformat": 4,
 "nbformat_minor": 5
}
