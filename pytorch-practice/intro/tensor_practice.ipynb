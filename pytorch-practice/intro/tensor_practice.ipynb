{
 "cells": [
  {
   "cell_type": "code",
   "execution_count": 15,
   "id": "054435d4",
   "metadata": {},
   "outputs": [
    {
     "name": "stdout",
     "output_type": "stream",
     "text": [
      "tensor([[0., 0., 0.],\n",
      "        [0., 0., 0.],\n",
      "        [0., 0., 0.]])\n",
      "tensor([[1., 1., 1.],\n",
      "        [1., 1., 1.],\n",
      "        [1., 1., 1.]])\n",
      "tensor([0, 1, 2, 3, 4, 5, 6, 7, 8, 9])\n",
      "tensor([[ 1.4050,  0.3940,  0.1996,  0.8774,  1.1553],\n",
      "        [ 0.7211,  0.4359, -1.7307,  1.8903, -2.4007],\n",
      "        [ 0.8101, -0.2098, -0.9450, -0.4381, -0.3999],\n",
      "        [-0.2626,  0.7336, -0.2679,  0.5022, -1.8765],\n",
      "        [ 0.5224, -0.8924,  1.7936,  0.4766, -0.5083]])\n",
      "tensor([[7, 7, 7, 7],\n",
      "        [7, 7, 7, 7],\n",
      "        [7, 7, 7, 7]])\n",
      "tensor([[7, 7, 7, 7],\n",
      "        [7, 7, 7, 7],\n",
      "        [7, 7, 7, 7]])\n"
     ]
    }
   ],
   "source": [
    "\n",
    "import torch\n",
    "#Create a 3×3 tensor of zeros and then a 3×3 tensor of ones.\n",
    "zeros = torch.zeros((3,3))\n",
    "ones = torch.ones((3,3))\n",
    "print(zeros)\n",
    "print(ones)\n",
    "\n",
    "# Create a 1D tensor containing numbers from 0 to 9.\n",
    "x = torch.arange(0,10)\n",
    "\n",
    "# Create a 5×5 tensor with random numbers sampled from a normal distribution.\n",
    "rand = torch.randn((5,5))\n",
    "print(x)\n",
    "print(rand)\n",
    "\n",
    "# Create a tensor of shape (3,4) filled with the value 7.\n",
    "y = torch.full((3,4), 7)\n",
    "print(y)\n",
    "\n",
    "y.type(dtype=torch.float32)\n",
    "print(y)\n",
    "\n"
   ]
  },
  {
   "cell_type": "code",
   "execution_count": 25,
   "id": "db4ea044",
   "metadata": {},
   "outputs": [
    {
     "name": "stdout",
     "output_type": "stream",
     "text": [
      "tensor([[14,  9, 20, 19,  5],\n",
      "        [13, 15,  9,  0, 12],\n",
      "        [14,  0, 16, 16, 12],\n",
      "        [ 3, 12, 13,  4,  5]])\n",
      "tensor([[ 9,  0, 12],\n",
      "        [16, 16, 12],\n",
      "        [13,  4,  5]])\n",
      "Modified tensor([[0, 9, 0, 0, 5],\n",
      "        [0, 0, 9, 0, 0],\n",
      "        [0, 0, 0, 0, 0],\n",
      "        [3, 0, 0, 4, 5]])\n",
      "tensor([6, 7, 8, 9])\n",
      "tensor([0, 2, 4, 6, 8])\n",
      "-----------------------------------\n",
      "tensor([[ 6,  7,  5, 15],\n",
      "        [ 3,  8,  1,  6],\n",
      "        [12,  6,  5, 10]])\n",
      "tensor([[ 6,  7,  5,  0],\n",
      "        [ 3,  8,  1,  6],\n",
      "        [ 0,  6,  5, 10]])\n",
      "tensor([[ 6, -1, -1,  0],\n",
      "        [-1,  8, -1,  6],\n",
      "        [ 0,  6, -1, 10]])\n"
     ]
    }
   ],
   "source": [
    "# 2. Tensor Indexing and Slicing\n",
    "# Create a 4×5 tensor of random integers from 0–20.\n",
    "rand  = torch.randint(0, 21, (4,5))\n",
    "print(rand)\n",
    "\n",
    "# Rows 1–3 and columns 2–4\n",
    "print (rand[1:4, 2:5])\n",
    "\n",
    "# Replace all elements greater than 10 with 0.\n",
    "# This is called boolean masking\n",
    "rand[rand > 10] = 0\n",
    "print(f'Modified {rand}')\n",
    "\n",
    "x = torch.arange(0,10)\n",
    "\n",
    "# Create a 1D tensor of numbers from 0 to 9.\n",
    "# Select all elements greater than 5.\n",
    "# Select all even numbers.\n",
    "# This example highlights basic selection\n",
    "print(x[x > 5])\n",
    "print(x[x %2 == 0])\n",
    "\n",
    "print( '-----------------------------------')\n",
    "# Element replacement\n",
    "x = torch.randint(0,16, (3,4))\n",
    "print(x)\n",
    "x[x  > 10] = 0\n",
    "print(x)\n",
    "\n",
    "x[x%2 != 0] = -1\n",
    "print(x)\n",
    "\n",
    "\n",
    "\n",
    "\n",
    "\n",
    "\n",
    "\n",
    "\n",
    "\n"
   ]
  }
 ],
 "metadata": {
  "kernelspec": {
   "display_name": "ml",
   "language": "python",
   "name": "python3"
  },
  "language_info": {
   "codemirror_mode": {
    "name": "ipython",
    "version": 3
   },
   "file_extension": ".py",
   "mimetype": "text/x-python",
   "name": "python",
   "nbconvert_exporter": "python",
   "pygments_lexer": "ipython3",
   "version": "3.11.12"
  }
 },
 "nbformat": 4,
 "nbformat_minor": 5
}
