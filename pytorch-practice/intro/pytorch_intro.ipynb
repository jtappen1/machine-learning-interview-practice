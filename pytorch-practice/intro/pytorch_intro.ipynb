{
 "cells": [
  {
   "cell_type": "code",
   "execution_count": 4,
   "id": "a4178d8a-959e-4039-8a40-341a2f3ff1da",
   "metadata": {},
   "outputs": [
    {
     "name": "stdout",
     "output_type": "stream",
     "text": [
      "Downloading http://fashion-mnist.s3-website.eu-central-1.amazonaws.com/train-images-idx3-ubyte.gz\n",
      "Downloading http://fashion-mnist.s3-website.eu-central-1.amazonaws.com/train-images-idx3-ubyte.gz to data/FashionMNIST/raw/train-images-idx3-ubyte.gz\n"
     ]
    },
    {
     "name": "stderr",
     "output_type": "stream",
     "text": [
      "100%|██████████| 26.4M/26.4M [00:01<00:00, 14.7MB/s]\n"
     ]
    },
    {
     "name": "stdout",
     "output_type": "stream",
     "text": [
      "Extracting data/FashionMNIST/raw/train-images-idx3-ubyte.gz to data/FashionMNIST/raw\n",
      "\n",
      "Downloading http://fashion-mnist.s3-website.eu-central-1.amazonaws.com/train-labels-idx1-ubyte.gz\n",
      "Downloading http://fashion-mnist.s3-website.eu-central-1.amazonaws.com/train-labels-idx1-ubyte.gz to data/FashionMNIST/raw/train-labels-idx1-ubyte.gz\n"
     ]
    },
    {
     "name": "stderr",
     "output_type": "stream",
     "text": [
      "100%|██████████| 29.5k/29.5k [00:00<00:00, 299kB/s]\n"
     ]
    },
    {
     "name": "stdout",
     "output_type": "stream",
     "text": [
      "Extracting data/FashionMNIST/raw/train-labels-idx1-ubyte.gz to data/FashionMNIST/raw\n",
      "\n",
      "Downloading http://fashion-mnist.s3-website.eu-central-1.amazonaws.com/t10k-images-idx3-ubyte.gz\n",
      "Downloading http://fashion-mnist.s3-website.eu-central-1.amazonaws.com/t10k-images-idx3-ubyte.gz to data/FashionMNIST/raw/t10k-images-idx3-ubyte.gz\n"
     ]
    },
    {
     "name": "stderr",
     "output_type": "stream",
     "text": [
      "100%|██████████| 4.42M/4.42M [00:00<00:00, 5.22MB/s]\n"
     ]
    },
    {
     "name": "stdout",
     "output_type": "stream",
     "text": [
      "Extracting data/FashionMNIST/raw/t10k-images-idx3-ubyte.gz to data/FashionMNIST/raw\n",
      "\n",
      "Downloading http://fashion-mnist.s3-website.eu-central-1.amazonaws.com/t10k-labels-idx1-ubyte.gz\n",
      "Downloading http://fashion-mnist.s3-website.eu-central-1.amazonaws.com/t10k-labels-idx1-ubyte.gz to data/FashionMNIST/raw/t10k-labels-idx1-ubyte.gz\n"
     ]
    },
    {
     "name": "stderr",
     "output_type": "stream",
     "text": [
      "100%|██████████| 5.15k/5.15k [00:00<00:00, 8.91MB/s]"
     ]
    },
    {
     "name": "stdout",
     "output_type": "stream",
     "text": [
      "Extracting data/FashionMNIST/raw/t10k-labels-idx1-ubyte.gz to data/FashionMNIST/raw\n",
      "\n"
     ]
    },
    {
     "name": "stderr",
     "output_type": "stream",
     "text": [
      "\n"
     ]
    }
   ],
   "source": [
    "import torch\n",
    "from torch import nn\n",
    "from torch.utils.data import DataLoader\n",
    "from torchvision import datasets\n",
    "from torchvision.transforms import ToTensor\n",
    "\n",
    "training_data = datasets.FashionMNIST(\n",
    "    root = \"data\",\n",
    "    train=True,\n",
    "    download=True,\n",
    "    transform=ToTensor()\n",
    ")\n",
    "\n",
    "test_data = datasets.FashionMNIST(\n",
    "    root = \"data\",\n",
    "    train = False,\n",
    "    download = True,\n",
    "    transform=ToTensor(),\n",
    ")"
   ]
  },
  {
   "cell_type": "code",
   "execution_count": 6,
   "id": "b69b0bb0",
   "metadata": {},
   "outputs": [
    {
     "name": "stdout",
     "output_type": "stream",
     "text": [
      "Shape of X [N, C, H, W]: torch.Size([64, 1, 28, 28])\n",
      "Shape of y: torch.Size([64]) torch.int64\n"
     ]
    }
   ],
   "source": [
    "batch_size = 64\n",
    "train_dataloader = DataLoader(\n",
    "    dataset=training_data, \n",
    "    batch_size=batch_size, \n",
    ")\n",
    "test_dataloader = DataLoader(\n",
    "    dataset=training_data,\n",
    "    batch_size=batch_size\n",
    ")\n",
    "\n",
    "for X, y in test_dataloader:\n",
    "    print(f\"Shape of X [N, C, H, W]: {X.shape}\")\n",
    "    print(f\"Shape of y: {y.shape} {y.dtype}\")\n",
    "    break\n"
   ]
  },
  {
   "cell_type": "code",
   "execution_count": 14,
   "id": "0fb8fd7b",
   "metadata": {},
   "outputs": [
    {
     "name": "stdout",
     "output_type": "stream",
     "text": [
      "NeuralNet(\n",
      "  (flatten): Flatten(start_dim=1, end_dim=-1)\n",
      "  (linear_relu_stack): Sequential(\n",
      "    (0): Linear(in_features=784, out_features=512, bias=True)\n",
      "    (1): ReLU()\n",
      "    (2): Linear(in_features=512, out_features=512, bias=True)\n",
      "    (3): ReLU()\n",
      "    (4): Linear(in_features=512, out_features=10, bias=True)\n",
      "  )\n",
      ")\n"
     ]
    }
   ],
   "source": [
    "device = \"cpu\"\n",
    "\n",
    "class NeuralNet(nn.Module):\n",
    "    def __init__(self):\n",
    "        super().__init__()\n",
    "        self.flatten = nn.Flatten()\n",
    "        self.linear_relu_stack = nn.Sequential(\n",
    "            nn.Linear(784, 512), \n",
    "            nn.ReLU(),\n",
    "            nn.Linear(512, 512),\n",
    "            nn.ReLU(),\n",
    "            nn.Linear(512, 10)\n",
    "        )\n",
    "    \n",
    "    def forward(self, x):\n",
    "        x = self.flatten(x)\n",
    "        logits = self.linear_relu_stack(x)\n",
    "        return logits\n",
    "    \n",
    "model = NeuralNet().to(device)\n",
    "print(model)"
   ]
  },
  {
   "cell_type": "code",
   "execution_count": 20,
   "id": "e36fd68d",
   "metadata": {},
   "outputs": [],
   "source": [
    "loss_fn = nn.CrossEntropyLoss()\n",
    "optimizer = torch.optim.SGD(model.parameters(), lr= 1e-3)\n",
    "\n",
    "def train(dataloader, model, loss_fn, optimizer):\n",
    "    size = len(dataloader.dataset)\n",
    "    model.train()\n",
    "    for batch, (X,y) in enumerate(dataloader):\n",
    "        X, y = X.to(device), y.to(device)\n",
    "\n",
    "        # Compute the Prediction Error\n",
    "        pred = model(X)\n",
    "        loss = loss_fn(pred, y)\n",
    "\n",
    "        # Backpropagation\n",
    "        loss.backward()\n",
    "        optimizer.step()\n",
    "        optimizer.zero_grad()\n",
    "        \n",
    "        if batch % 100 == 0:\n",
    "            loss, current = loss.item(), (batch + 1) * len(X)\n",
    "            print(f'loss: {loss:>7f} [{current:>5d}/ {size:>5d}]')\n",
    "\n",
    "def test(dataloader, model, loss_fn, optimizer):\n",
    "    size =len(dataloader.dataset)\n",
    "    model.eval()\n",
    "    num_batches = len(dataloader)\n",
    "    test_loss, correct = 0,0\n",
    "    with torch.no_grad():\n",
    "        for X, y in dataloader:\n",
    "            X, y = X.to(device), y.to(device)\n",
    "            pred = model(X)\n",
    "            test_loss += loss_fn(pred, y).item()\n",
    "            correct += (pred.argmax(1) == y).type(torch.float).sum().item()\n",
    "    test_loss/=num_batches\n",
    "    correct /= size\n",
    "    print(f\"Test Error: \\n Accuracy: {(100 * correct):>0.1f}%, Avg loss: {test_loss:>8f} \\n\")\n",
    "\n",
    "\n"
   ]
  },
  {
   "cell_type": "code",
   "execution_count": 21,
   "id": "55f55684",
   "metadata": {},
   "outputs": [
    {
     "name": "stdout",
     "output_type": "stream",
     "text": [
      "Epoch 1 ------------------------------------\n",
      "loss: 0.721110 [   64/ 60000]\n",
      "loss: 0.814084 [ 6464/ 60000]\n",
      "loss: 0.591320 [12864/ 60000]\n",
      "loss: 0.804614 [19264/ 60000]\n",
      "loss: 0.690688 [25664/ 60000]\n",
      "loss: 0.694695 [32064/ 60000]\n",
      "loss: 0.771320 [38464/ 60000]\n",
      "loss: 0.757540 [44864/ 60000]\n",
      "loss: 0.761729 [51264/ 60000]\n",
      "loss: 0.730944 [57664/ 60000]\n",
      "Test Error: \n",
      " Accuracy: 74.4%, Avg loss: 0.712224 \n",
      "\n",
      "Epoch 2 ------------------------------------\n",
      "loss: 0.691720 [   64/ 60000]\n",
      "loss: 0.789226 [ 6464/ 60000]\n",
      "loss: 0.567856 [12864/ 60000]\n",
      "loss: 0.786688 [19264/ 60000]\n",
      "loss: 0.673716 [25664/ 60000]\n",
      "loss: 0.677609 [32064/ 60000]\n",
      "loss: 0.749717 [38464/ 60000]\n",
      "loss: 0.743256 [44864/ 60000]\n",
      "loss: 0.744924 [51264/ 60000]\n",
      "loss: 0.713754 [57664/ 60000]\n",
      "Test Error: \n",
      " Accuracy: 75.2%, Avg loss: 0.694203 \n",
      "\n",
      "Epoch 3 ------------------------------------\n",
      "loss: 0.665073 [   64/ 60000]\n",
      "loss: 0.766165 [ 6464/ 60000]\n",
      "loss: 0.547012 [12864/ 60000]\n",
      "loss: 0.770585 [19264/ 60000]\n",
      "loss: 0.658787 [25664/ 60000]\n",
      "loss: 0.662827 [32064/ 60000]\n",
      "loss: 0.729454 [38464/ 60000]\n",
      "loss: 0.730143 [44864/ 60000]\n",
      "loss: 0.729835 [51264/ 60000]\n",
      "loss: 0.698020 [57664/ 60000]\n",
      "Test Error: \n",
      " Accuracy: 76.1%, Avg loss: 0.677602 \n",
      "\n",
      "Epoch 4 ------------------------------------\n",
      "loss: 0.641014 [   64/ 60000]\n",
      "loss: 0.744723 [ 6464/ 60000]\n",
      "loss: 0.528255 [12864/ 60000]\n",
      "loss: 0.756123 [19264/ 60000]\n",
      "loss: 0.645604 [25664/ 60000]\n",
      "loss: 0.649885 [32064/ 60000]\n",
      "loss: 0.710413 [38464/ 60000]\n",
      "loss: 0.718008 [44864/ 60000]\n",
      "loss: 0.716286 [51264/ 60000]\n",
      "loss: 0.683481 [57664/ 60000]\n",
      "Test Error: \n",
      " Accuracy: 76.8%, Avg loss: 0.662161 \n",
      "\n",
      "Epoch 5 ------------------------------------\n",
      "loss: 0.619142 [   64/ 60000]\n",
      "loss: 0.724839 [ 6464/ 60000]\n",
      "loss: 0.511435 [12864/ 60000]\n",
      "loss: 0.742822 [19264/ 60000]\n",
      "loss: 0.633905 [25664/ 60000]\n",
      "loss: 0.638486 [32064/ 60000]\n",
      "loss: 0.692535 [38464/ 60000]\n",
      "loss: 0.706904 [44864/ 60000]\n",
      "loss: 0.704117 [51264/ 60000]\n",
      "loss: 0.670035 [57664/ 60000]\n",
      "Test Error: \n",
      " Accuracy: 77.5%, Avg loss: 0.647754 \n",
      "\n",
      "Completed\n"
     ]
    }
   ],
   "source": [
    "epochs  = 5\n",
    "for t in range(epochs):\n",
    "    print(f'Epoch {t+1} ------------------------------------')\n",
    "    train(train_dataloader, model=model, loss_fn=loss_fn, optimizer=optimizer)\n",
    "    test(test_dataloader, model=model, loss_fn=loss_fn, optimizer=optimizer)\n",
    "print('Completed')"
   ]
  },
  {
   "cell_type": "code",
   "execution_count": 22,
   "id": "3538d708",
   "metadata": {},
   "outputs": [
    {
     "name": "stdout",
     "output_type": "stream",
     "text": [
      "Predicted: \"Ankle boot\", Actual: \"Ankle boot\"\n"
     ]
    }
   ],
   "source": [
    "classes = [\n",
    "    \"T-shirt/top\",\n",
    "    \"Trouser\",\n",
    "    \"Pullover\",\n",
    "    \"Dress\",\n",
    "    \"Coat\",\n",
    "    \"Sandal\",\n",
    "    \"Shirt\",\n",
    "    \"Sneaker\",\n",
    "    \"Bag\",\n",
    "    \"Ankle boot\",\n",
    "]\n",
    "\n",
    "model.eval()\n",
    "x, y = test_data[0][0] , test_data[0][1]\n",
    "with torch.no_grad():\n",
    "    x.to(device)\n",
    "    pred = model(x)\n",
    "    predicted, actual = classes[pred[0].argmax(0)], classes[y]\n",
    "    print(f'Predicted: \"{predicted}\", Actual: \"{actual}\"')\n"
   ]
  }
 ],
 "metadata": {
  "kernelspec": {
   "display_name": "ml",
   "language": "python",
   "name": "python3"
  },
  "language_info": {
   "codemirror_mode": {
    "name": "ipython",
    "version": 3
   },
   "file_extension": ".py",
   "mimetype": "text/x-python",
   "name": "python",
   "nbconvert_exporter": "python",
   "pygments_lexer": "ipython3",
   "version": "3.11.12"
  }
 },
 "nbformat": 4,
 "nbformat_minor": 5
}
