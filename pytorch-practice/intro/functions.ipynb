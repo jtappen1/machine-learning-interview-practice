{
 "cells": [
  {
   "cell_type": "code",
   "execution_count": null,
   "id": "5ceea794",
   "metadata": {},
   "outputs": [
    {
     "name": "stdout",
     "output_type": "stream",
     "text": [
      "tensor([3, 2, 3, 2, 0])\n",
      "tensor([0.9526, 0.8808, 0.9526, 0.8808, 0.5000])\n",
      "tensor([0.3590, 0.1321, 0.3590, 0.1321, 0.0179])\n"
     ]
    }
   ],
   "source": [
    "import torch\n",
    "\n",
    "def mae(y_hat, y):\n",
    "    return torch.mean(torch.abs((y_hat - y)))\n",
    "\n",
    "def mse(y_hat, y):\n",
    "    return torch.mean((y_hat-y) **2)\n",
    "\n",
    "def sigmoid(X):\n",
    "    return 1/(1+torch.exp(-X))\n",
    "\n",
    "def softmax(z):\n",
    "    scaled_z = z - torch.max(z)\n",
    "    e_z = torch.exp(scaled_z)\n",
    "    return e_z / torch.sum(e_z)\n",
    "\n",
    "def BCE_loss(y_hat, y):\n",
    "    return -(y * torch.log(y_hat)) + (1-y) *torch.log(1-y_hat)\n",
    "\n",
    "def cross_entropy_loss()\n",
    "\n",
    "\n",
    "X = torch.randint(0,5,(5,))\n",
    "print(X)\n",
    "print(sigmoid(X))\n",
    "print(softmax(X))"
   ]
  }
 ],
 "metadata": {
  "kernelspec": {
   "display_name": "ml",
   "language": "python",
   "name": "python3"
  },
  "language_info": {
   "codemirror_mode": {
    "name": "ipython",
    "version": 3
   },
   "file_extension": ".py",
   "mimetype": "text/x-python",
   "name": "python",
   "nbconvert_exporter": "python",
   "pygments_lexer": "ipython3",
   "version": "3.11.12"
  }
 },
 "nbformat": 4,
 "nbformat_minor": 5
}
