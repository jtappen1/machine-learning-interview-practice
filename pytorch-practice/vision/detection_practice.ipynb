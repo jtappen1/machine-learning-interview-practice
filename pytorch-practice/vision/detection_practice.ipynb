{
 "cells": [
  {
   "cell_type": "code",
   "execution_count": 2,
   "id": "7c4b576d",
   "metadata": {},
   "outputs": [],
   "source": [
    "import torch\n",
    "from torchvision.models import resnet18, ResNet18_Weights \n",
    "from torchvision.transforms import transforms\n",
    "from torch.utils.data import DataLoader, Dataset\n",
    "import pandas as pd\n",
    "import os\n",
    "from PIL import Image\n",
    "\n",
    "model = resnet18(weights=ResNet18_Weights.DEFAULT)\n",
    "model_transforms = ResNet18_Weights.DEFAULT.transforms()\n",
    "\n",
    "transform = transforms.Compose([\n",
    "    model_transforms\n",
    "])\n",
    "\n",
    "class BallDataset(Dataset):\n",
    "    def __init__(self, csv_path, img_dir, transform = None):\n",
    "        super().__init__()\n",
    "        self.labels_frame = pd.read_csv(csv_path)\n",
    "        self.image_dir = img_dir\n",
    "        self.transform = transform\n",
    "    \n",
    "    def __len__(self):\n",
    "        return len(self.labels_frame)\n",
    "    \n",
    "    def __getitem__(self, index):\n",
    "        img_name = self.labels_frame.iloc[index, 0]\n",
    "        image = Image.open(os.path.join(self.image_dir, img_name)).convert('RGB')\n",
    "\n",
    "        if self.transform:\n",
    "            image = self.transform(image)\n",
    "        \n",
    "        label = torch.tensor([self.labels_frame.iloc[index , 1]], dtype=torch.long).squeeze(-1)\n",
    "        \n",
    "        return image, label\n",
    "    \n",
    "\n"
   ]
  },
  {
   "cell_type": "code",
   "execution_count": null,
   "id": "34f03020",
   "metadata": {},
   "outputs": [
    {
     "name": "stdout",
     "output_type": "stream",
     "text": [
      "torch.Size([2, 3, 224, 224])\n",
      "tensor([805, 852])\n"
     ]
    }
   ],
   "source": [
    "test_dataset = BallDataset(\n",
    "    csv_path=\"../data/practice-data/practice.csv\",\n",
    "    img_dir=\"../data/practice-data\",\n",
    "    transform = transform\n",
    ")\n",
    "\n",
    "test_dataloader = DataLoader(test_dataset, batch_size=4)\n",
    "\n",
    "img, label = next(iter(test_dataloader))\n",
    "print(img.shape)\n",
    "print(label)\n"
   ]
  },
  {
   "cell_type": "code",
   "execution_count": 16,
   "id": "212902f8",
   "metadata": {},
   "outputs": [
    {
     "name": "stdout",
     "output_type": "stream",
     "text": [
      "torch.Size([2])\n",
      "torch.Size([2])\n",
      "2\n"
     ]
    }
   ],
   "source": [
    "model.eval()\n",
    "with torch.no_grad():\n",
    "    num_correct = 0\n",
    "    for X, y in test_dataloader:\n",
    "        preds = model(X)\n",
    "        preds = torch.argmax(preds, dim=1).squeeze()\n",
    "        print(preds.shape)\n",
    "        print(y.shape)\n",
    "        num_correct += (preds == y).sum().item()\n",
    "    \n",
    "    print(num_correct)\n",
    "        \n",
    "        "
   ]
  }
 ],
 "metadata": {
  "kernelspec": {
   "display_name": "ml",
   "language": "python",
   "name": "python3"
  },
  "language_info": {
   "codemirror_mode": {
    "name": "ipython",
    "version": 3
   },
   "file_extension": ".py",
   "mimetype": "text/x-python",
   "name": "python",
   "nbconvert_exporter": "python",
   "pygments_lexer": "ipython3",
   "version": "3.11.12"
  }
 },
 "nbformat": 4,
 "nbformat_minor": 5
}
