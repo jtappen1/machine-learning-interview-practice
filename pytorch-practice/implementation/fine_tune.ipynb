{
 "cells": [
  {
   "cell_type": "code",
   "execution_count": null,
   "id": "ba46cea6",
   "metadata": {},
   "outputs": [],
   "source": [
    "import torch\n",
    "from torch.utils.data import DataLoader\n",
    "from torchvision.datasets import MNIST\n",
    "from torchvision.transforms import transforms, Lambda\n",
    "from torchvision.models import mobilenet_v3_small, MobileNet_V3_Small_Weights\n",
    "\n",
    "device = torch.device(\"cuda\" if torch.cuda.is_available() else \"cpu\")\n",
    "\n",
    "model = mobilenet_v3_small(MobileNet_V3_Small_Weights.DEFAULT)\n",
    "\n",
    "model.to(device)\n",
    "\n",
    "transform = MobileNet_V3_Small_Weights.DEFAULT.transforms()\n",
    "transform = transforms.Compose([\n",
    "    Lambda(lambda x: x.convert(\"RGB\")), \n",
    "    MobileNet_V3_Small_Weights.DEFAULT.transforms()\n",
    "])\n",
    "\n",
    "train_dataset = MNIST(\n",
    "    root=\"../data\",\n",
    "    train=True,\n",
    "    download=True,\n",
    "    transform=transform\n",
    ")\n",
    "\n",
    "test_dataset = MNIST(\n",
    "    root=\"../data\",\n",
    "    train=False,\n",
    "    download=True,\n",
    "    transform=transform\n",
    ")\n",
    "\n",
    "train_dataloader = DataLoader(dataset=train_dataset, batch_size=32, shuffle=True)\n",
    "test_dataloader = DataLoader(dataset=test_dataset, batch_size=32, shuffle=False)"
   ]
  },
  {
   "cell_type": "code",
   "execution_count": null,
   "id": "a359381e",
   "metadata": {},
   "outputs": [],
   "source": [
    "from torch.optim import Adam\n",
    "import torch.nn as nn\n",
    "\n",
    "num_classes = 10\n",
    "\n",
    "model.classifier[3] = nn.Linear(model.classifier[3].in_features, num_classes)\n",
    "\n",
    "loss_fn = nn.CrossEntropyLoss()\n",
    "optimizer = Adam(model.parameters(), lr=0.001)\n",
    "\n"
   ]
  },
  {
   "cell_type": "code",
   "execution_count": null,
   "id": "1533c451",
   "metadata": {},
   "outputs": [],
   "source": [
    "for i, layer in enumerate(model.features):\n",
    "    if i < 5: \n",
    "        for param in layer.parameters():\n",
    "            param.requires_grad = False\n",
    "\n",
    "for name, param in model.named_parameters():\n",
    "    print(name, param.requires_grad)\n",
    "\n",
    "optimizer = Adam(filter(lambda p: p.requires_grad, model.parameters()), lr= 0.001)\n"
   ]
  },
  {
   "cell_type": "code",
   "execution_count": null,
   "id": "c851ae26",
   "metadata": {},
   "outputs": [],
   "source": [
    "for parameter in model.features.parameters():\n",
    "    parameter.requires_grad = False\n",
    "\n",
    "model.classifier[3] = nn.Linear(model.classifier[3].in_features, num_classes)\n",
    "\n",
    "optimizer = Adam(params=filter(lambda param: param.requires_grad, model.parameters()), lr=0.001)\n",
    "\n"
   ]
  },
  {
   "cell_type": "code",
   "execution_count": null,
   "id": "2de27a62",
   "metadata": {},
   "outputs": [],
   "source": [
    "model.train()\n",
    "num_batches = len(train_dataloader)\n",
    "expected_loss, num_correct , samples = 0 , 0 , 0\n",
    "for batch, (X, y) in enumerate(train_dataloader):\n",
    "    X, y = X.to(device), y.to(device)\n",
    "\n",
    "    optimizer.zero_grad()\n",
    "\n",
    "    pred = model(X)\n",
    "    loss = loss_fn(pred, y)\n",
    "\n",
    "    loss.backward()\n",
    "    optimizer.step()\n",
    "\n",
    "    expected_loss += loss.item()\n",
    "    pred_idx = torch.argmax(pred, dim=1)\n",
    "    num_correct += ((pred_idx == y).sum()).item()\n",
    "    samples += y.size(0)\n",
    "\n",
    "    \n",
    "    if not (batch % 100):\n",
    "        print(f\"Batch: {batch} ----------------\")\n",
    "        print(f\"Loss = {expected_loss / (batch+1)}\")\n",
    "        print(f\"Accuracy = {num_correct / samples}\")\n",
    "\n",
    "print(f\"total loss: {expected_loss/num_batches}\")"
   ]
  }
 ],
 "metadata": {
  "kernelspec": {
   "display_name": "ml",
   "language": "python",
   "name": "python3"
  },
  "language_info": {
   "codemirror_mode": {
    "name": "ipython",
    "version": 3
   },
   "file_extension": ".py",
   "mimetype": "text/x-python",
   "name": "python",
   "nbconvert_exporter": "python",
   "pygments_lexer": "ipython3",
   "version": "3.11.12"
  }
 },
 "nbformat": 4,
 "nbformat_minor": 5
}
