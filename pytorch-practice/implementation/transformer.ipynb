{
 "cells": [
  {
   "cell_type": "code",
   "execution_count": null,
   "id": "82a15c20",
   "metadata": {},
   "outputs": [],
   "source": [
    "import torch.nn as nn\n",
    "\n",
    "class TransformerBlock(nn.Module):\n",
    "    def __init__(self, embed_dim, num_heads, ff_hidden_dim, dropout= 0.1):\n",
    "        super().__init__()\n",
    "        self.norm1 = nn.LayerNorm(embed_dim)\n",
    "\n",
    "        self.attn = nn.MultiheadAttention(embed_dim=embed_dim, num_heads=num_heads, ff_hidden_dim=ff_hidden_dim, dropout=dropout , batch_first=True)\n",
    "\n",
    "        self.dropout1 = nn.Dropout(dropout)\n",
    "\n",
    "        self.norm2 = nn.LayerNorm(embed_dim)\n",
    "\n",
    "        self.ffn=(nn.Sequential(\n",
    "            nn.Linear(embed_dim, ff_hidden_dim),\n",
    "            nn.ReLU(),\n",
    "            nn.Linear(ff_hidden_dim, embed_dim)\n",
    "        ))\n",
    "        self.dropout2 = nn.Dropout(dropout)\n",
    "    \n",
    "    def forward(self, X):\n",
    "        normed = self.norm1(X)\n",
    "        attn_out = self.attn(normed, normed, normed)\n",
    "        x = x + self.dropout1(attn_out)\n",
    "\n",
    "        normed = self.norm2(x)\n",
    "        ffn_out = self.ffn(normed)\n",
    "        x = x + self.dropout2(ffn_out)\n",
    "\n",
    "        return x\n"
   ]
  }
 ],
 "metadata": {
  "language_info": {
   "name": "python"
  }
 },
 "nbformat": 4,
 "nbformat_minor": 5
}
