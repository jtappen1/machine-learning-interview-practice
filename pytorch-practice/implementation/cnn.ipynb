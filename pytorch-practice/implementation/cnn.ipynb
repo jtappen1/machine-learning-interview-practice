{
 "cells": [
  {
   "cell_type": "code",
   "execution_count": 2,
   "id": "1d85d639",
   "metadata": {},
   "outputs": [
    {
     "name": "stderr",
     "output_type": "stream",
     "text": [
      "/Users/jtappen/.local/share/mamba/envs/ml/lib/python3.11/site-packages/torchvision/io/image.py:14: UserWarning: Failed to load image Python extension: 'dlopen(/Users/jtappen/.local/share/mamba/envs/ml/lib/python3.11/site-packages/torchvision/image.so, 0x0006): Library not loaded: @rpath/libjpeg.9.dylib\n",
      "  Referenced from: <EB3FF92A-5EB1-3EE8-AF8B-5923C1265422> /Users/jtappen/.local/share/mamba/envs/ml/lib/python3.11/site-packages/torchvision/image.so\n",
      "  Reason: tried: '/Users/jtappen/.local/share/mamba/envs/ml/lib/python3.11/site-packages/torchvision/../../../libjpeg.9.dylib' (no such file), '/Users/jtappen/.local/share/mamba/envs/ml/lib/python3.11/site-packages/torchvision/../../../libjpeg.9.dylib' (no such file), '/Users/jtappen/.local/share/mamba/envs/ml/lib/python3.11/lib-dynload/../../libjpeg.9.dylib' (no such file), '/Users/jtappen/.local/share/mamba/envs/ml/bin/../lib/libjpeg.9.dylib' (no such file)'If you don't plan on using image functionality from `torchvision.io`, you can ignore this warning. Otherwise, there might be something wrong with your environment. Did you have `libjpeg` or `libpng` installed before building `torchvision` from source?\n",
      "  warn(\n"
     ]
    },
    {
     "name": "stdout",
     "output_type": "stream",
     "text": [
      "Files already downloaded and verified\n",
      "Files already downloaded and verified\n",
      "Dataset CIFAR10\n",
      "    Number of datapoints: 50000\n",
      "    Root location: ../data\n",
      "    Split: Train\n",
      "    StandardTransform\n",
      "Transform: Compose(\n",
      "               RandomHorizontalFlip(p=0.5)\n",
      "               RandomVerticalFlip(p=0.5)\n",
      "               ToTensor()\n",
      "               Normalize(mean=[0.485, 0.456, 0.406], std=[0.229, 0.224, 0.225])\n",
      "           )\n",
      "torch.Size([64, 3, 32, 32]) torch.Size([64])\n"
     ]
    }
   ],
   "source": [
    "import torch\n",
    "import torch.nn as nn\n",
    "from torch.utils.data import DataLoader\n",
    "from torchvision.datasets import CIFAR10\n",
    "from torchvision import transforms\n",
    "\n",
    "IMAGENET_MEAN = [0.485, 0.456, 0.406]  # Mean for R, G, B\n",
    "IMAGENET_STD = [0.229, 0.224, 0.225]   # Std Dev for R, G, B\n",
    "\n",
    "data_transforms = transforms.Compose([\n",
    "     transforms.RandomHorizontalFlip(p = 0.5),\n",
    "    transforms.RandomVerticalFlip(p = 0.5),\n",
    "    transforms.ToTensor(),\n",
    "    transforms.Normalize(mean=IMAGENET_MEAN, std=IMAGENET_STD)\n",
    "])\n",
    "\n",
    "test_transforms = transforms.Compose([\n",
    "    transforms.ToTensor(),\n",
    "    transforms.Normalize(mean=IMAGENET_MEAN, std=IMAGENET_STD)\n",
    "])\n",
    "\n",
    "training_data = CIFAR10(\n",
    "    root=\"../data\", \n",
    "    train=True,\n",
    "    download=True,\n",
    "    transform=data_transforms\n",
    ")\n",
    "\n",
    "testing_data = CIFAR10(\n",
    "    root = \"../data\",\n",
    "    train= False,\n",
    "    download=True,\n",
    "    transform=test_transforms\n",
    ")\n",
    "print(training_data)\n",
    "\n",
    "batch_size = 64\n",
    "train_dataloader = DataLoader(\n",
    "    dataset=training_data,\n",
    "    batch_size=batch_size,\n",
    "    shuffle=True\n",
    ")\n",
    "test_dataloader = DataLoader(\n",
    "    dataset=testing_data,\n",
    "    batch_size=batch_size,\n",
    "    shuffle=False\n",
    ")\n",
    "\n",
    "images, labels = next(iter(train_dataloader))\n",
    "print(images.shape, labels.shape)\n"
   ]
  },
  {
   "cell_type": "code",
   "execution_count": 3,
   "id": "5ffbcc79",
   "metadata": {},
   "outputs": [],
   "source": [
    "class SimpleConvNet(nn.Module):\n",
    "    def __init__(self, input_channels=3, num_classes=10):\n",
    "        super(SimpleConvNet,  self).__init__()\n",
    "        self.layers = nn.Sequential(\n",
    "            # Block 1\n",
    "            nn.Conv2d(input_channels, 16, kernel_size=3, stride=2, padding = 1),\n",
    "            nn.ReLU(),\n",
    "            nn.Conv2d(16, 32, kernel_size=3 , stride=2, padding=1),\n",
    "            nn.MaxPool2d(kernel_size=2, stride=2),\n",
    "\n",
    "            # Block 2\n",
    "            nn.Conv2d(32, 64, kernel_size = 3, stride=1, padding= 1),\n",
    "            nn.ReLU(),\n",
    "            nn.Conv2d(64, 128, kernel_size=3, stride=1, padding=1),\n",
    "            nn.MaxPool2d(kernel_size=2, stride=2),\n",
    "            \n",
    "            # Classification Head\n",
    "            nn.Flatten(),\n",
    "            nn.Linear(128 * 2 *2, num_classes)\n",
    "        )\n",
    "\n",
    "    def forward(self, X):\n",
    "        return self.layers(X)\n"
   ]
  },
  {
   "cell_type": "code",
   "execution_count": 4,
   "id": "e55a19d1",
   "metadata": {},
   "outputs": [],
   "source": [
    "# Step 3: Inititalize Model, Optimizer, Loss Function\n",
    "model = SimpleConvNet()\n",
    "loss_fn = nn.CrossEntropyLoss()\n",
    "optimizer = torch.optim.Adam(model.parameters())\n",
    "\n",
    "device = torch.device(\"cuda\" if torch.cuda.is_available() else \"cpu\")"
   ]
  },
  {
   "cell_type": "code",
   "execution_count": null,
   "id": "348835fc",
   "metadata": {},
   "outputs": [
    {
     "name": "stdout",
     "output_type": "stream",
     "text": [
      "Epoc 1----------------------------------\n",
      "Average Loss: 0.8877639306323303\n",
      "Epoc 2----------------------------------\n",
      "Average Loss: 0.8756545419278352\n",
      "Epoc 3----------------------------------\n",
      "Average Loss: 0.8581701567791917\n",
      "Epoc 4----------------------------------\n",
      "Average Loss: 0.837968643935745\n",
      "Epoc 5----------------------------------\n",
      "Average Loss: 0.8319406456044872\n",
      "Epoc 6----------------------------------\n",
      "Average Loss: 0.8133045871315709\n",
      "Epoc 7----------------------------------\n",
      "Average Loss: 0.8035156596118532\n",
      "Epoc 8----------------------------------\n",
      "Average Loss: 0.7934937552570382\n",
      "Epoc 9----------------------------------\n",
      "Average Loss: 0.7829759532152234\n",
      "Epoc 10----------------------------------\n",
      "Average Loss: 0.777169937634712\n",
      "Completed Training\n"
     ]
    }
   ],
   "source": [
    "# Step 4: Training Loop\n",
    "epochs = 10\n",
    "model.train()\n",
    "\n",
    "\n",
    "for i in range(epochs):\n",
    "    avg_loss = 0\n",
    "    num_batches = len(train_dataloader)\n",
    "    for X, y in train_dataloader:\n",
    "        X, y = X.to(device), y.to(device)\n",
    "\n",
    "        optimizer.zero_grad()\n",
    "\n",
    "        logits = model(X)\n",
    "        loss = loss_fn(logits, y)\n",
    "\n",
    "        loss.backward()\n",
    "\n",
    "        optimizer.step()\n",
    "\n",
    "        avg_loss += loss.item()\n",
    "\n",
    "    print(f\"Epoc {i+1}----------------------------------\")\n",
    "    print(f\"Average Loss: {avg_loss/num_batches}\")\n",
    "\n",
    "print(\"Completed Training\")\n",
    "\n",
    "\n",
    "\n"
   ]
  },
  {
   "cell_type": "code",
   "execution_count": 13,
   "id": "70891f82",
   "metadata": {},
   "outputs": [
    {
     "name": "stdout",
     "output_type": "stream",
     "text": [
      "Results:\n",
      "Test Loss: 0.7347688286200814\n",
      "Total Accuracy: 0.7391104539641944\n"
     ]
    }
   ],
   "source": [
    "num_batches = len(train_dataloader)\n",
    "total_accuracy = 0\n",
    "test_loss = 0\n",
    "\n",
    "for X,y in train_dataloader:\n",
    "    model.eval()\n",
    "    with torch.no_grad():\n",
    "        X, y = X.to(device), y.to(device)\n",
    "        logits = model(X)\n",
    "        loss = loss_fn(logits, y)\n",
    "\n",
    "        test_loss += loss.item()\n",
    "\n",
    "        pred_classes= torch.argmax(logits, dim=1)\n",
    "        batch_correct = (pred_classes == y).sum().item()\n",
    "        total_accuracy += (batch_correct / y.size(0))\n",
    "\n",
    "\n",
    "print(f\"Results:\")\n",
    "print(f\"Test Loss: {test_loss/num_batches}\")\n",
    "print(f\"Total Accuracy: {total_accuracy/num_batches}\")\n",
    "\n",
    "\n",
    "\n",
    "\n",
    "        \n"
   ]
  }
 ],
 "metadata": {
  "kernelspec": {
   "display_name": "ml",
   "language": "python",
   "name": "python3"
  },
  "language_info": {
   "codemirror_mode": {
    "name": "ipython",
    "version": 3
   },
   "file_extension": ".py",
   "mimetype": "text/x-python",
   "name": "python",
   "nbconvert_exporter": "python",
   "pygments_lexer": "ipython3",
   "version": "3.11.12"
  }
 },
 "nbformat": 4,
 "nbformat_minor": 5
}
