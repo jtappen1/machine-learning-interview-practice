{
 "cells": [
  {
   "cell_type": "code",
   "execution_count": null,
   "id": "25d3d0bf",
   "metadata": {},
   "outputs": [
    {
     "name": "stderr",
     "output_type": "stream",
     "text": [
      "/Users/jtappen/.local/share/mamba/envs/ml/lib/python3.11/site-packages/torchvision/io/image.py:14: UserWarning: Failed to load image Python extension: 'dlopen(/Users/jtappen/.local/share/mamba/envs/ml/lib/python3.11/site-packages/torchvision/image.so, 0x0006): Library not loaded: @rpath/libjpeg.9.dylib\n",
      "  Referenced from: <EB3FF92A-5EB1-3EE8-AF8B-5923C1265422> /Users/jtappen/.local/share/mamba/envs/ml/lib/python3.11/site-packages/torchvision/image.so\n",
      "  Reason: tried: '/Users/jtappen/.local/share/mamba/envs/ml/lib/python3.11/site-packages/torchvision/../../../libjpeg.9.dylib' (no such file), '/Users/jtappen/.local/share/mamba/envs/ml/lib/python3.11/site-packages/torchvision/../../../libjpeg.9.dylib' (no such file), '/Users/jtappen/.local/share/mamba/envs/ml/lib/python3.11/lib-dynload/../../libjpeg.9.dylib' (no such file), '/Users/jtappen/.local/share/mamba/envs/ml/bin/../lib/libjpeg.9.dylib' (no such file)'If you don't plan on using image functionality from `torchvision.io`, you can ignore this warning. Otherwise, there might be something wrong with your environment. Did you have `libjpeg` or `libpng` installed before building `torchvision` from source?\n",
      "  warn(\n"
     ]
    }
   ],
   "source": [
    "import torch\n",
    "from torchvision.models import vgg11_bn, VGG11_BN_Weights\n",
    "from PIL import Image\n",
    "\n",
    "device = torch.device(\"cuda\" if torch.cuda.is_available() else \"cpu\")\n",
    "\n",
    "model = vgg11_bn(weights=VGG11_BN_Weights.DEFAULT)\n"
   ]
  },
  {
   "cell_type": "code",
   "execution_count": 22,
   "id": "6e00ca6c",
   "metadata": {},
   "outputs": [],
   "source": [
    "from torch.utils.data import Dataset\n",
    "import pandas as pd\n",
    "import os\n",
    "\n",
    "transform = VGG11_BN_Weights.DEFAULT.transforms()\n",
    "\n",
    "class PracticeDataset(Dataset):\n",
    "    def __init__(self, csv_file, img_dir, transform=None):\n",
    "        self.labels_frame = pd.read_csv(csv_file, header= None)\n",
    "        self.img_dir = img_dir\n",
    "        self.transform = transform\n",
    "    \n",
    "    def __len__(self):\n",
    "        return len(self.labels_frame)\n",
    "    \n",
    "    def __getitem__(self, index):\n",
    "        # Get the image\n",
    "        try:\n",
    "            image_name = self.labels_frame.iloc[index, 0]\n",
    "            img_path = os.path.join(self.img_dir, image_name)\n",
    "            image = Image.open(img_path).convert('RGB')\n",
    "        except:\n",
    "            raise Exception(\"Could not find image path\")\n",
    "\n",
    "        # Get the target\n",
    "        target = torch.tensor(self.labels_frame.iloc[index, 1])\n",
    "\n",
    "        if self.transform:\n",
    "            image = self.transform(image)\n",
    "\n",
    "        return image, target\n",
    "\n",
    "\n",
    "\n",
    "test_dataset = PracticeDataset(\"../data/practice-data/practice.csv\", \"../data/practice-data\", transform)\n",
    "test_dataloader = torch.utils.data.DataLoader(test_dataset, batch_size=10)"
   ]
  },
  {
   "cell_type": "code",
   "execution_count": 29,
   "id": "e73988d3",
   "metadata": {},
   "outputs": [
    {
     "name": "stdout",
     "output_type": "stream",
     "text": [
      "torch.Size([3])\n",
      "torch.Size([3])\n",
      "3\n"
     ]
    }
   ],
   "source": [
    "import torch.nn as nn\n",
    "model.eval()\n",
    "model = model.to(device)\n",
    "loss_fn = nn.CrossEntropyLoss()\n",
    "\n",
    "with torch.no_grad():\n",
    "    for X, y in test_dataloader:\n",
    "        pred = model(X)\n",
    "        \n",
    "        loss = loss_fn(pred, y)\n",
    "        print(y.shape)\n",
    "        pred_idx = torch.argmax(pred, dim=1)\n",
    "        print(pred_idx.shape)\n",
    "        num_correct = (pred_idx == y).sum().item()\n",
    "        print(num_correct)\n"
   ]
  }
 ],
 "metadata": {
  "kernelspec": {
   "display_name": "ml",
   "language": "python",
   "name": "python3"
  },
  "language_info": {
   "codemirror_mode": {
    "name": "ipython",
    "version": 3
   },
   "file_extension": ".py",
   "mimetype": "text/x-python",
   "name": "python",
   "nbconvert_exporter": "python",
   "pygments_lexer": "ipython3",
   "version": "3.11.12"
  }
 },
 "nbformat": 4,
 "nbformat_minor": 5
}
