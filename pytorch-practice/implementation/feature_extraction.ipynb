{
 "cells": [
  {
   "cell_type": "code",
   "execution_count": 3,
   "id": "4b91ef46",
   "metadata": {},
   "outputs": [],
   "source": [
    "import torch\n",
    "import torch.nn as nn\n",
    "from torchvision.transforms import transforms, ToTensor\n",
    "from torchvision.datasets import CIFAR10\n",
    "from torch.utils.data import DataLoader\n",
    "import torchvision.models as models\n",
    "device = torch.device(\"cuda\" if torch.cuda.is_available() else \"cpu\")\n",
    "\n",
    "transform = transforms.Compose([\n",
    "    transforms.Resize((224,224)),\n",
    "    ToTensor()\n",
    "])\n",
    "\n",
    "train_dataset = CIFAR10(\n",
    "    root=\"../data\",\n",
    "    train = True,\n",
    "    transform=transform,\n",
    ")\n",
    "\n",
    "test_dataset = CIFAR10(\n",
    "    root = \"../data\",\n",
    "    train =  True,\n",
    "    transform= transform\n",
    ")\n",
    "\n",
    "train_loader = DataLoader(train_dataset, batch_size=32, shuffle=True, num_workers=0)\n",
    "test_loader = DataLoader(test_dataset, batch_size = 32, shuffle=False, num_workers=0)\n",
    "\n"
   ]
  },
  {
   "cell_type": "code",
   "execution_count": 11,
   "id": "e5b20ec5",
   "metadata": {},
   "outputs": [],
   "source": [
    "model = models.resnet18(weights=models.ResNet18_Weights.DEFAULT)\n",
    "\n",
    "for param in model.parameters():\n",
    "    param.requires_grad = False\n",
    "\n",
    "num_classes = 10\n",
    "model.fc =  nn.Linear(model.fc.in_features, num_classes)\n",
    "\n",
    "model = model.to(device)\n",
    "\n",
    "loss_fn = nn.CrossEntropyLoss()\n",
    "optimizer = torch.optim.AdamW(model.fc.parameters(), lr=0.001)"
   ]
  },
  {
   "cell_type": "code",
   "execution_count": null,
   "id": "cb4e6052",
   "metadata": {},
   "outputs": [
    {
     "name": "stdout",
     "output_type": "stream",
     "text": [
      "---------------------------------\n",
      "Batch : 0\n",
      "Loss : 2.575059413909912, Accuracy=0.0625\n",
      "---------------------------------\n",
      "Batch : 100\n",
      "Loss : 1.6056577852456877, Accuracy=0.4824\n"
     ]
    }
   ],
   "source": [
    "epochs = 5\n",
    "\n",
    "def train(dataloader, model, loss_fn, optimizer):\n",
    "    epoch_loss = 0\n",
    "    total_correct = 0\n",
    "    total_samples = 0\n",
    "    \n",
    "    for batch, (X, y) in enumerate(dataloader):\n",
    "        X, y = X.to(device), y.to(device)\n",
    "        optimizer.zero_grad()\n",
    "\n",
    "        logits = model(X)\n",
    "        loss = loss_fn(logits, y)\n",
    "\n",
    "        loss.backward()\n",
    "        optimizer.step()\n",
    "\n",
    "        epoch_loss += loss.item() * y.size(0)\n",
    "        preds = (torch.argmax(logits, dim = 1))\n",
    "        total_correct += (preds == y).sum().item()\n",
    "        total_samples += y.size(0)\n",
    "\n",
    "        if batch % 100 == 0:\n",
    "            print(\"---------------------------------\")\n",
    "            print(f\"Batch : {batch}\")\n",
    "            print(f\"Loss : {epoch_loss/total_samples}, Accuracy={total_correct/total_samples:.4f}\")\n",
    "\n",
    "    avg_loss = epoch_loss / total_samples\n",
    "    accuracy = total_correct / total_samples\n",
    "    return avg_loss, accuracy\n",
    "\n",
    "model.train()\n",
    "num_batches = len(train_loader)\n",
    "\n",
    "for epoch in range(epochs):\n",
    "    avg_loss, avg_accuracy = train(dataloader=train_loader, model=model, loss_fn=loss_fn, optimizer=optimizer)\n",
    "    print(f\"avg loss: {avg_loss}, avg accurracy: {avg_accuracy}\")\n",
    "\n",
    "\n"
   ]
  }
 ],
 "metadata": {
  "kernelspec": {
   "display_name": "ml",
   "language": "python",
   "name": "python3"
  },
  "language_info": {
   "codemirror_mode": {
    "name": "ipython",
    "version": 3
   },
   "file_extension": ".py",
   "mimetype": "text/x-python",
   "name": "python",
   "nbconvert_exporter": "python",
   "pygments_lexer": "ipython3",
   "version": "3.11.12"
  }
 },
 "nbformat": 4,
 "nbformat_minor": 5
}
