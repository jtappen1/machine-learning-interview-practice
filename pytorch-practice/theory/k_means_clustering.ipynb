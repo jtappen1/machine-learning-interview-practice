{
 "cells": [
  {
   "cell_type": "code",
   "execution_count": 11,
   "id": "a77f09d9",
   "metadata": {},
   "outputs": [
    {
     "name": "stdout",
     "output_type": "stream",
     "text": [
      "torch.Size([50, 2])\n"
     ]
    },
    {
     "data": {
      "text/plain": [
       "(tensor([[47, 46],\n",
       "         [77, 80],\n",
       "         [81, 48],\n",
       "         [15, 29],\n",
       "         [27, 82],\n",
       "         [95, 11],\n",
       "         [92, 61],\n",
       "         [83,  7],\n",
       "         [64, 44],\n",
       "         [94, 44]]),\n",
       " tensor([9, 1, 7, 7, 8, 2, 1, 1, 1, 0, 1, 3, 1, 3, 3, 1, 3, 1, 1, 3, 0, 0, 0, 1,\n",
       "         3, 1, 8, 0, 9, 6, 4, 3, 3, 5, 4, 2, 1, 8, 1, 0, 4, 3, 0, 9, 5, 1, 4, 5,\n",
       "         8, 8]))"
      ]
     },
     "execution_count": 11,
     "metadata": {},
     "output_type": "execute_result"
    }
   ],
   "source": [
    "import torch\n",
    "dataset = torch.randint(0, 100, (50,2))\n",
    "print(dataset.shape)\n",
    "\n",
    "\n",
    "def k_means_clustering(K, dataset, max_iterations = 100):\n",
    "    rand_k_indices = torch.randperm(49)[:K]\n",
    "    centroids = dataset[rand_k_indices].clone()\n",
    "    distances = (dataset.unsqueeze(1)- centroids.unsqueeze(0)).pow(2).sum(dim=2)\n",
    "    assigment  = torch.argmin(distances, dim=1)\n",
    "\n",
    "    for i in range(max_iterations):\n",
    "        new_centroids = torch.zeros_like(centroids)\n",
    "        for k in range(K):\n",
    "            points_in_cluster = dataset[assigment == k]\n",
    "            \n",
    "            if len(points_in_cluster)> 0:\n",
    "                new_centroids[k] = torch.mean(points_in_cluster, dtype=torch.float32, dim=0)\n",
    "            else:\n",
    "                new_centroids[k] = centroids[k]\n",
    "\n",
    "        differences = torch.sum((new_centroids-centroids) ** 2)\n",
    "        if differences < 1e-6:\n",
    "            \n",
    "            break\n",
    "        centroids = new_centroids\n",
    "\n",
    "    return centroids, assigment\n",
    "\n",
    "\n",
    "\n",
    "k_means_clustering(10, dataset)\n"
   ]
  }
 ],
 "metadata": {
  "kernelspec": {
   "display_name": "ml",
   "language": "python",
   "name": "python3"
  },
  "language_info": {
   "codemirror_mode": {
    "name": "ipython",
    "version": 3
   },
   "file_extension": ".py",
   "mimetype": "text/x-python",
   "name": "python",
   "nbconvert_exporter": "python",
   "pygments_lexer": "ipython3",
   "version": "3.11.12"
  }
 },
 "nbformat": 4,
 "nbformat_minor": 5
}
