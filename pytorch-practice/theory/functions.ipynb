{
 "cells": [
  {
   "cell_type": "code",
   "execution_count": 5,
   "id": "b2c2ab40",
   "metadata": {},
   "outputs": [
    {
     "name": "stdout",
     "output_type": "stream",
     "text": [
      "tensor([[1, 2, 2]])\n",
      "tensor([[0.7311, 0.8808, 0.8808]])\n"
     ]
    }
   ],
   "source": [
    "# Sigmoid Activation Function\n",
    "import torch\n",
    "\n",
    "X = torch.randint(1,3, (1,3))\n",
    "sigmoid = 1 / (1 + torch.exp(-X))\n",
    "print(X)\n",
    "print(sigmoid)\n"
   ]
  },
  {
   "cell_type": "code",
   "execution_count": 7,
   "id": "91501e55",
   "metadata": {},
   "outputs": [
    {
     "name": "stdout",
     "output_type": "stream",
     "text": [
      "tensor([[3, 1, 1, 1, 1, 3, 1, 4, 2, 2]])\n",
      "tensor([[0.1631, 0.0221, 0.0221, 0.0221, 0.0221, 0.1631, 0.0221, 0.4434, 0.0600,\n",
      "         0.0600]])\n"
     ]
    }
   ],
   "source": [
    "z  =  torch.randint(1, 5, (1,10))\n",
    "def softmax(z):\n",
    "    shift_z = z - torch.max(z)\n",
    "    exp_z = torch.exp(shift_z)\n",
    "    return exp_z / torch.sum(exp_z)\n",
    "\n",
    "print(z)\n",
    "print(softmax(z))"
   ]
  }
 ],
 "metadata": {
  "kernelspec": {
   "display_name": "ml",
   "language": "python",
   "name": "python3"
  },
  "language_info": {
   "codemirror_mode": {
    "name": "ipython",
    "version": 3
   },
   "file_extension": ".py",
   "mimetype": "text/x-python",
   "name": "python",
   "nbconvert_exporter": "python",
   "pygments_lexer": "ipython3",
   "version": "3.11.12"
  }
 },
 "nbformat": 4,
 "nbformat_minor": 5
}
